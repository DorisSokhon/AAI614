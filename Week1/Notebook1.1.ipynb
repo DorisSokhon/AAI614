{
  "cells": [
    {
      "cell_type": "markdown",
      "metadata": {
        "id": "view-in-github",
        "colab_type": "text"
      },
      "source": [
        "<a href=\"https://colab.research.google.com/github/DorisSokhon/AAI614/blob/main/Week1/Notebook1.1.ipynb\" target=\"_parent\"><img src=\"https://colab.research.google.com/assets/colab-badge.svg\" alt=\"Open In Colab\"/></a>"
      ]
    },
    {
      "cell_type": "markdown",
      "metadata": {
        "jp-MarkdownHeadingCollapsed": true,
        "id": "KcOtXw5X4bXj"
      },
      "source": [
        "\n",
        "# AAI612: Deep Learning & its Applications\n",
        "\n",
        "*Notebook 1.1: Using the perceptron for linear fitting*\n",
        "\n",
        "<a href=\"https://colab.research.google.com/github/harmanani/AAI612/blob/main/Week1/Notebook1.1.ipynb\" target=\"_parent\"><img src=\"https://colab.research.google.com/assets/colab-badge.svg\" alt=\"Open In Colab\"/></a>"
      ]
    },
    {
      "cell_type": "markdown",
      "metadata": {
        "id": "ZIAkIlfmCe1B"
      },
      "source": [
        "Notebook 1.1"
      ]
    },
    {
      "cell_type": "markdown",
      "metadata": {
        "id": "fA93WUy1zzWf"
      },
      "source": [
        "In this notebook, we will perform linear regression using a single neuron.  We will be using `TensorFlow` and `Keras`; however, do not worry about the details of the language for the moment as we will get back to these later on.\n",
        "\n",
        "The simple mode we will be looking at will learn the relationship between two numbers and will be used to predict other numbers. For example, if you were writing code for a function like this:\n",
        "\n",
        "\n",
        "```\n",
        "y = mx + b\n",
        "```\n",
        "\n",
        "How would you train a neural network to do the equivalent task? Well, we said using data, a lot of data! The approach is to feed the model with a set of Xs, and a set of Ys, it should be able to figure out the relationship between them."
      ]
    },
    {
      "cell_type": "markdown",
      "metadata": {
        "id": "8pNiuXMp4bXn"
      },
      "source": [
        "# Linear Regression"
      ]
    },
    {
      "cell_type": "markdown",
      "metadata": {
        "id": "EEy4FR_x4bXn"
      },
      "source": [
        "Let us start by linear regression.   Assume we have the following simple dataset.  We can easily fit using `polyfit():`"
      ]
    },
    {
      "cell_type": "code",
      "source": [
        "from google.colab import files\n",
        "\n",
        "uploaded = files.upload()\n",
        "\n",
        "for filename in uploaded.keys():\n",
        "    print(f'Uploaded file: {filename}')\n"
      ],
      "metadata": {
        "colab": {
          "base_uri": "https://localhost:8080/",
          "height": 91
        },
        "id": "rFe2XPFz4gSj",
        "outputId": "a6744df5-a2fd-4665-80c4-7b494ca7068a"
      },
      "execution_count": 16,
      "outputs": [
        {
          "output_type": "display_data",
          "data": {
            "text/plain": [
              "<IPython.core.display.HTML object>"
            ],
            "text/html": [
              "\n",
              "     <input type=\"file\" id=\"files-b812dcfd-c597-4d7b-9df4-3d9615c2b76c\" name=\"files[]\" multiple disabled\n",
              "        style=\"border:none\" />\n",
              "     <output id=\"result-b812dcfd-c597-4d7b-9df4-3d9615c2b76c\">\n",
              "      Upload widget is only available when the cell has been executed in the\n",
              "      current browser session. Please rerun this cell to enable.\n",
              "      </output>\n",
              "      <script>// Copyright 2017 Google LLC\n",
              "//\n",
              "// Licensed under the Apache License, Version 2.0 (the \"License\");\n",
              "// you may not use this file except in compliance with the License.\n",
              "// You may obtain a copy of the License at\n",
              "//\n",
              "//      http://www.apache.org/licenses/LICENSE-2.0\n",
              "//\n",
              "// Unless required by applicable law or agreed to in writing, software\n",
              "// distributed under the License is distributed on an \"AS IS\" BASIS,\n",
              "// WITHOUT WARRANTIES OR CONDITIONS OF ANY KIND, either express or implied.\n",
              "// See the License for the specific language governing permissions and\n",
              "// limitations under the License.\n",
              "\n",
              "/**\n",
              " * @fileoverview Helpers for google.colab Python module.\n",
              " */\n",
              "(function(scope) {\n",
              "function span(text, styleAttributes = {}) {\n",
              "  const element = document.createElement('span');\n",
              "  element.textContent = text;\n",
              "  for (const key of Object.keys(styleAttributes)) {\n",
              "    element.style[key] = styleAttributes[key];\n",
              "  }\n",
              "  return element;\n",
              "}\n",
              "\n",
              "// Max number of bytes which will be uploaded at a time.\n",
              "const MAX_PAYLOAD_SIZE = 100 * 1024;\n",
              "\n",
              "function _uploadFiles(inputId, outputId) {\n",
              "  const steps = uploadFilesStep(inputId, outputId);\n",
              "  const outputElement = document.getElementById(outputId);\n",
              "  // Cache steps on the outputElement to make it available for the next call\n",
              "  // to uploadFilesContinue from Python.\n",
              "  outputElement.steps = steps;\n",
              "\n",
              "  return _uploadFilesContinue(outputId);\n",
              "}\n",
              "\n",
              "// This is roughly an async generator (not supported in the browser yet),\n",
              "// where there are multiple asynchronous steps and the Python side is going\n",
              "// to poll for completion of each step.\n",
              "// This uses a Promise to block the python side on completion of each step,\n",
              "// then passes the result of the previous step as the input to the next step.\n",
              "function _uploadFilesContinue(outputId) {\n",
              "  const outputElement = document.getElementById(outputId);\n",
              "  const steps = outputElement.steps;\n",
              "\n",
              "  const next = steps.next(outputElement.lastPromiseValue);\n",
              "  return Promise.resolve(next.value.promise).then((value) => {\n",
              "    // Cache the last promise value to make it available to the next\n",
              "    // step of the generator.\n",
              "    outputElement.lastPromiseValue = value;\n",
              "    return next.value.response;\n",
              "  });\n",
              "}\n",
              "\n",
              "/**\n",
              " * Generator function which is called between each async step of the upload\n",
              " * process.\n",
              " * @param {string} inputId Element ID of the input file picker element.\n",
              " * @param {string} outputId Element ID of the output display.\n",
              " * @return {!Iterable<!Object>} Iterable of next steps.\n",
              " */\n",
              "function* uploadFilesStep(inputId, outputId) {\n",
              "  const inputElement = document.getElementById(inputId);\n",
              "  inputElement.disabled = false;\n",
              "\n",
              "  const outputElement = document.getElementById(outputId);\n",
              "  outputElement.innerHTML = '';\n",
              "\n",
              "  const pickedPromise = new Promise((resolve) => {\n",
              "    inputElement.addEventListener('change', (e) => {\n",
              "      resolve(e.target.files);\n",
              "    });\n",
              "  });\n",
              "\n",
              "  const cancel = document.createElement('button');\n",
              "  inputElement.parentElement.appendChild(cancel);\n",
              "  cancel.textContent = 'Cancel upload';\n",
              "  const cancelPromise = new Promise((resolve) => {\n",
              "    cancel.onclick = () => {\n",
              "      resolve(null);\n",
              "    };\n",
              "  });\n",
              "\n",
              "  // Wait for the user to pick the files.\n",
              "  const files = yield {\n",
              "    promise: Promise.race([pickedPromise, cancelPromise]),\n",
              "    response: {\n",
              "      action: 'starting',\n",
              "    }\n",
              "  };\n",
              "\n",
              "  cancel.remove();\n",
              "\n",
              "  // Disable the input element since further picks are not allowed.\n",
              "  inputElement.disabled = true;\n",
              "\n",
              "  if (!files) {\n",
              "    return {\n",
              "      response: {\n",
              "        action: 'complete',\n",
              "      }\n",
              "    };\n",
              "  }\n",
              "\n",
              "  for (const file of files) {\n",
              "    const li = document.createElement('li');\n",
              "    li.append(span(file.name, {fontWeight: 'bold'}));\n",
              "    li.append(span(\n",
              "        `(${file.type || 'n/a'}) - ${file.size} bytes, ` +\n",
              "        `last modified: ${\n",
              "            file.lastModifiedDate ? file.lastModifiedDate.toLocaleDateString() :\n",
              "                                    'n/a'} - `));\n",
              "    const percent = span('0% done');\n",
              "    li.appendChild(percent);\n",
              "\n",
              "    outputElement.appendChild(li);\n",
              "\n",
              "    const fileDataPromise = new Promise((resolve) => {\n",
              "      const reader = new FileReader();\n",
              "      reader.onload = (e) => {\n",
              "        resolve(e.target.result);\n",
              "      };\n",
              "      reader.readAsArrayBuffer(file);\n",
              "    });\n",
              "    // Wait for the data to be ready.\n",
              "    let fileData = yield {\n",
              "      promise: fileDataPromise,\n",
              "      response: {\n",
              "        action: 'continue',\n",
              "      }\n",
              "    };\n",
              "\n",
              "    // Use a chunked sending to avoid message size limits. See b/62115660.\n",
              "    let position = 0;\n",
              "    do {\n",
              "      const length = Math.min(fileData.byteLength - position, MAX_PAYLOAD_SIZE);\n",
              "      const chunk = new Uint8Array(fileData, position, length);\n",
              "      position += length;\n",
              "\n",
              "      const base64 = btoa(String.fromCharCode.apply(null, chunk));\n",
              "      yield {\n",
              "        response: {\n",
              "          action: 'append',\n",
              "          file: file.name,\n",
              "          data: base64,\n",
              "        },\n",
              "      };\n",
              "\n",
              "      let percentDone = fileData.byteLength === 0 ?\n",
              "          100 :\n",
              "          Math.round((position / fileData.byteLength) * 100);\n",
              "      percent.textContent = `${percentDone}% done`;\n",
              "\n",
              "    } while (position < fileData.byteLength);\n",
              "  }\n",
              "\n",
              "  // All done.\n",
              "  yield {\n",
              "    response: {\n",
              "      action: 'complete',\n",
              "    }\n",
              "  };\n",
              "}\n",
              "\n",
              "scope.google = scope.google || {};\n",
              "scope.google.colab = scope.google.colab || {};\n",
              "scope.google.colab._files = {\n",
              "  _uploadFiles,\n",
              "  _uploadFilesContinue,\n",
              "};\n",
              "})(self);\n",
              "</script> "
            ]
          },
          "metadata": {}
        },
        {
          "output_type": "stream",
          "name": "stdout",
          "text": [
            "Saving nelson.csv to nelson.csv\n",
            "Uploaded file: nelson.csv\n"
          ]
        }
      ]
    },
    {
      "cell_type": "code",
      "source": [
        "import pandas as pd\n",
        "df = pd.read_csv('nelson.csv')\n",
        "print(df.head())"
      ],
      "metadata": {
        "colab": {
          "base_uri": "https://localhost:8080/"
        },
        "id": "NgzvUQLU5jxF",
        "outputId": "736f840d-9221-4b94-aa08-dded716e5c67"
      },
      "execution_count": 22,
      "outputs": [
        {
          "output_type": "stream",
          "name": "stdout",
          "text": [
            "      y    x1   x2\n",
            "0  55.0  1.50  350\n",
            "1  51.0  3.00  450\n",
            "2  60.0  1.75  300\n",
            "3  75.0  1.00  450\n",
            "4  55.5  3.10  385\n"
          ]
        }
      ]
    },
    {
      "cell_type": "code",
      "execution_count": 23,
      "metadata": {
        "id": "KpyML_cu4bXn"
      },
      "outputs": [],
      "source": [
        "# Extract features\n",
        "x1 = df['x1'].values.reshape(-1, 1)  # Distance\n",
        "x2 = df['x2'].values.reshape(-1, 1)  # Size\n",
        "y = df['y'].values.reshape(-1, 1)    # Price in 1000s\n"
      ]
    },
    {
      "cell_type": "code",
      "source": [
        "import tensorflow as tf\n",
        "from tensorflow.keras.models import Sequential\n",
        "from tensorflow.keras.layers import Dense\n",
        "\n",
        "def build_model():\n",
        "    model = Sequential([\n",
        "        Dense(units=1, input_shape=(1,))\n",
        "    ])\n",
        "    model.compile(optimizer='adam', loss='mse')\n",
        "    return model\n"
      ],
      "metadata": {
        "id": "UrHUaEv16Eir"
      },
      "execution_count": 24,
      "outputs": []
    },
    {
      "cell_type": "code",
      "source": [
        "model_x1 = build_model()\n",
        "model_x1.fit(x1, y, epochs=200, verbose=0)\n",
        "\n",
        "predictions_x1 = model_x1.predict(x1)\n",
        "print(\"Predictions using distance (x1):\")\n",
        "print(predictions_x1.flatten() * 1000)  # Convert to $ units\n"
      ],
      "metadata": {
        "colab": {
          "base_uri": "https://localhost:8080/"
        },
        "id": "sgPkxfj66IrP",
        "outputId": "6ff4f891-ba21-41f4-8f01-93c0069b7766"
      },
      "execution_count": 25,
      "outputs": [
        {
          "output_type": "stream",
          "name": "stderr",
          "text": [
            "/usr/local/lib/python3.11/dist-packages/keras/src/layers/core/dense.py:87: UserWarning: Do not pass an `input_shape`/`input_dim` argument to a layer. When using Sequential models, prefer using an `Input(shape)` object as the first layer in the model instead.\n",
            "  super().__init__(activity_regularizer=activity_regularizer, **kwargs)\n"
          ]
        },
        {
          "output_type": "stream",
          "name": "stdout",
          "text": [
            "\u001b[1m1/1\u001b[0m \u001b[32m━━━━━━━━━━━━━━━━━━━━\u001b[0m\u001b[37m\u001b[0m \u001b[1m0s\u001b[0m 49ms/step\n",
            "Predictions using distance (x1):\n",
            "[130.52676   61.503754 119.02293  153.53444   56.902214 125.925224\n",
            "  93.71449  107.51909   15.488401 -30.52695  169.63982  107.51909 ]\n"
          ]
        }
      ]
    },
    {
      "cell_type": "markdown",
      "metadata": {
        "id": "52gdvcgT4bXo"
      },
      "source": [
        "Let us explore the data!"
      ]
    },
    {
      "cell_type": "code",
      "execution_count": 26,
      "metadata": {
        "colab": {
          "base_uri": "https://localhost:8080/",
          "height": 487
        },
        "id": "-6hGd3iF4bXo",
        "outputId": "e4cecb16-a623-46ad-992c-acf67795077c"
      },
      "outputs": [
        {
          "output_type": "display_data",
          "data": {
            "text/plain": [
              "<Figure size 800x500 with 1 Axes>"
            ],
            "image/png": "[encoded data removed]"
          },
          "metadata": {}
        }
      ],
      "source": [
        "import matplotlib.pyplot as plt\n",
        "\n",
        "# Plot x1 (distance) vs y (price in $1000s)\n",
        "plt.figure(figsize=(8, 5))\n",
        "plt.plot(x1, y, 'o', color='blue')\n",
        "plt.title(\"Apartment Price vs. Distance from Downtown\")\n",
        "plt.xlabel(\"Distance from Downtown (km)\")\n",
        "plt.ylabel(\"Price ($1000)\")\n",
        "plt.grid(True)\n",
        "plt.show()\n"
      ]
    },
    {
      "cell_type": "markdown",
      "metadata": {
        "id": "yY35F1-o4bXp"
      },
      "source": [
        "Now, let us see how we can best fit this data using the `polyfit`:\n",
        "\n",
        "> Add blockquote\n",
        "\n"
      ]
    },
    {
      "cell_type": "code",
      "execution_count": 28,
      "metadata": {
        "id": "ddG1l2YK4bXp"
      },
      "outputs": [],
      "source": [
        "x = np.array(x1).flatten()\n",
        "y = np.array(y).flatten()\n",
        "\n",
        "m, b = np.polyfit(x, y, 1)\n",
        "y_hat = m * x + b"
      ]
    },
    {
      "cell_type": "markdown",
      "metadata": {
        "id": "4p0l9Rrv4bXq"
      },
      "source": [
        "The above data fit results with the following equation:"
      ]
    },
    {
      "cell_type": "code",
      "execution_count": 29,
      "metadata": {
        "colab": {
          "base_uri": "https://localhost:8080/"
        },
        "id": "1NMUzkFg4bXq",
        "outputId": "ee1a94fd-bb3e-4dca-d712-87d04d72fcf4"
      },
      "outputs": [
        {
          "output_type": "stream",
          "name": "stdout",
          "text": [
            "Equation that best fits the data is: Y = -5.38 * x + 71.84\n"
          ]
        }
      ],
      "source": [
        "print(\"Equation that best fits the data is: Y = %2.2f * x + %5.2f\" % (m,b))"
      ]
    },
    {
      "cell_type": "markdown",
      "metadata": {
        "id": "t2EYJ2Fp4bXq"
      },
      "source": [
        "and now, let us see how it fits visually:"
      ]
    },
    {
      "cell_type": "code",
      "execution_count": 30,
      "metadata": {
        "colab": {
          "base_uri": "https://localhost:8080/",
          "height": 430
        },
        "id": "_7WLSwor4bXq",
        "outputId": "72679922-622a-4d38-bbd2-d7e44f821853"
      },
      "outputs": [
        {
          "output_type": "display_data",
          "data": {
            "text/plain": [
              "<Figure size 640x480 with 1 Axes>"
            ],
            "image/png": "[encoded data removed]"
          },
          "metadata": {}
        }
      ],
      "source": [
        "plt.plot(x, y, '.')\n",
        "plt.plot(x, y_hat, '-')\n",
        "plt.show()"
      ]
    },
    {
      "cell_type": "markdown",
      "metadata": {
        "id": "mWiiC9WU4bXq"
      },
      "source": [
        "Let us predict y for x = 10"
      ]
    },
    {
      "cell_type": "code",
      "execution_count": 31,
      "metadata": {
        "colab": {
          "base_uri": "https://localhost:8080/"
        },
        "id": "tRy6n81b4bXq",
        "outputId": "94a81421-4277-4104-c575-ac26977c480e"
      },
      "outputs": [
        {
          "output_type": "stream",
          "name": "stdout",
          "text": [
            "Predicted price for x = 10 is: 18.05 (in $1000)\n"
          ]
        }
      ],
      "source": [
        "x = 10\n",
        "predicted_y = m * x + b\n",
        "print(f\"Predicted price for x = {x} is: {predicted_y:.2f} (in $1000)\")"
      ]
    },
    {
      "cell_type": "markdown",
      "metadata": {
        "id": "ZErtd6Fb4bXr"
      },
      "source": [
        "Now, let us try this all over again using one neuron.  We will be using `Keras` and `TesnorFlow`."
      ]
    },
    {
      "cell_type": "markdown",
      "metadata": {
        "id": "DzbtdRcZDO9B"
      },
      "source": [
        "## Imports\n",
        "\n",
        "Let's start with our imports. Here we are importing 'TensorFlow' and calling it tf for ease of use.  We do of course need to import `numpy`, which helps us to represent our data as lists easily and quickly.  Finally, the framework for defining a neural network as a set of Sequential layers is called keras, so we import that too."
      ]
    },
    {
      "cell_type": "code",
      "execution_count": 32,
      "metadata": {
        "id": "X9uIpOS2zx7k",
        "colab": {
          "base_uri": "https://localhost:8080/"
        },
        "outputId": "cc86c9fc-b163-49c3-d5f8-013d47650441"
      },
      "outputs": [
        {
          "output_type": "stream",
          "name": "stdout",
          "text": [
            "2.18.0\n"
          ]
        }
      ],
      "source": [
        "import tensorflow as tf\n",
        "import numpy as np\n",
        "from tensorflow import keras\n",
        "\n",
        "print(tf.__version__)"
      ]
    },
    {
      "cell_type": "markdown",
      "metadata": {
        "id": "wwJGmDrQ0EoB"
      },
      "source": [
        "## Define and Compile the Neural Network\n",
        "\n",
        "Next we will create the simplest possible neural network. It has 1 layer, and that layer has 1 neuron, and the input shape to it is just 1 value."
      ]
    },
    {
      "cell_type": "code",
      "execution_count": 33,
      "metadata": {
        "id": "kQFAr_xo0M4T"
      },
      "outputs": [],
      "source": [
        "model = tf.keras.Sequential([keras.layers.Dense(units=1, input_shape=[1])])"
      ]
    },
    {
      "cell_type": "markdown",
      "metadata": {
        "id": "KhjZjZ-c0Ok9"
      },
      "source": [
        "Now we compile our Neural Network. When we do so, we have to specify 2 functions, a loss and an optimizer.\n",
        "\n",
        "If you've seen lots of math for machine learning, here's where it's usually used, but in this case it's nicely encapsulated in functions for you. But what happens here — let's explain...\n",
        "\n",
        "We know that in our function, the relationship between the numbers is Y = 5.12 * x + 14.45.\n",
        "\n",
        "When the computer is trying to 'learn' that, it makes a guess...maybe y=10x+10. The LOSS function measures the guessed answers against the known correct answers and measures how well or how badly it did.\n",
        "\n",
        "It then uses the OPTIMIZER function to make another guess. Based on how the loss function went, it will try to minimize the loss. At that point maybe it will come up with somehting like y=5x+5, which, while still pretty bad, is closer to the correct result (i.e. the loss is lower)\n",
        "\n",
        "It will repeat this for the number of EPOCHS which you will see shortly. But first, here's how we tell it to use 'MEAN SQUARED ERROR' for the loss and 'STOCHASTIC GRADIENT DESCENT' for the optimizer. You don't need to understand the math for these yet, but you can see that they work! :)\n",
        "\n",
        "Over time you will learn the different and appropriate loss and optimizer functions for different scenarios.\n"
      ]
    },
    {
      "cell_type": "code",
      "execution_count": 34,
      "metadata": {
        "id": "m8YQN1H41L-Y"
      },
      "outputs": [],
      "source": [
        "model.compile(optimizer='sgd', loss='mean_squared_error')"
      ]
    },
    {
      "cell_type": "markdown",
      "metadata": {
        "id": "5QyOUhFw1OUX"
      },
      "source": [
        "## Providing the Data\n",
        "\n",
        "Next up we'll feed in some data. In this case we are taking 6 xs and 6ys. You can see that the relationship between these is that y=2x-1, so where x = -1, y=-3 etc. etc.\n",
        "\n",
        "A python library called 'Numpy' provides lots of array type data structures that are a defacto standard way of doing it. We declare that we want to use these by specifying the values as an np.array[]"
      ]
    },
    {
      "cell_type": "markdown",
      "metadata": {
        "id": "sQJPKul74bXs"
      },
      "source": [
        "### Let us try this dataset!"
      ]
    },
    {
      "cell_type": "markdown",
      "metadata": {
        "id": "-36ypzwR4bXs"
      },
      "source": [
        "Comment the above data set and try this one now:"
      ]
    },
    {
      "cell_type": "code",
      "execution_count": 35,
      "metadata": {
        "id": "AOAIGzTG4bXs"
      },
      "outputs": [],
      "source": [
        "xs = np.array([ 0,  1,  2,  3,  4,  5,  6,  7,  8,  9])\n",
        "ys = np.array([10, 20, 25, 30, 40, 45, 40, 50, 60, 55])"
      ]
    },
    {
      "cell_type": "markdown",
      "metadata": {
        "id": "n_YcWRElnM_b"
      },
      "source": [
        "# Training the Neural Network"
      ]
    },
    {
      "cell_type": "markdown",
      "metadata": {
        "id": "c-Jk4dG91dvD"
      },
      "source": [
        "The process of training the neural network, where it 'learns' the relationship between the Xs and Ys is in the **model.fit**  call. This is where it will go through the loop we spoke about above, making a guess, measuring how good or bad it is (aka the loss), using the opimizer to make another guess etc. It will do it for the number of epochs you specify. When you run this code, you'll see the loss on the right hand side."
      ]
    },
    {
      "cell_type": "code",
      "execution_count": 36,
      "metadata": {
        "id": "lpRrl7WK10Pq"
      },
      "outputs": [],
      "source": [
        "from keras.callbacks import History\n",
        "history = History()\n",
        "\n",
        "x = model.fit(xs, ys, epochs=500, callbacks=[history], verbose=0)"
      ]
    },
    {
      "cell_type": "markdown",
      "metadata": {
        "id": "kaFIr71H2OZ-"
      },
      "source": [
        "Ok, that we have a model that we have trained to learn the relationship between X and Y, we can use the **model.predict** method to have it figure out the Y for a previously unknown X. So, for example, if X = 2, what do you think Y will be? Take a guess before you run this code:"
      ]
    },
    {
      "cell_type": "code",
      "execution_count": 37,
      "metadata": {
        "colab": {
          "base_uri": "https://localhost:8080/"
        },
        "id": "QsVKa7wv4bXt",
        "outputId": "40fd22c1-bdc8-4a59-fee8-02e7cab88618"
      },
      "outputs": [
        {
          "output_type": "stream",
          "name": "stdout",
          "text": [
            "{'loss': [1071.2640380859375, 240.6435546875, 96.65611267089844, 71.29872131347656, 66.44158172607422, 65.13148498535156, 64.43951416015625, 63.85956573486328, 63.30413818359375, 62.75810623168945, 62.218727111816406, 61.685546875, 61.158363342285156, 60.63713455200195, 60.12177658081055, 59.612220764160156, 59.1083984375, 58.610252380371094, 58.11772537231445, 57.6307487487793, 57.14925003051758, 56.673179626464844, 56.20246505737305, 55.737037658691406, 55.27686309814453, 54.821868896484375, 54.37200164794922, 53.927223205566406, 53.4874267578125, 53.052574157714844, 52.622650146484375, 52.19755935668945, 51.777244567871094, 51.361656188964844, 50.950782775878906, 50.54450225830078, 50.14281463623047, 49.74565505981445, 49.35295867919922, 48.964683532714844, 48.580787658691406, 48.201210021972656, 47.82592010498047, 47.45484161376953, 47.08795928955078, 46.725196838378906, 46.36650848388672, 46.011878967285156, 45.66123962402344, 45.31454849243164, 44.97174835205078, 44.632835388183594, 44.2977294921875, 43.966392517089844, 43.63878631591797, 43.31486511230469, 42.994598388671875, 42.677940368652344, 42.36486053466797, 42.055274963378906, 41.74920654296875, 41.446571350097656, 41.14734649658203, 40.851505279541016, 40.5589714050293, 40.269752502441406, 39.98377990722656, 39.70102310180664, 39.421451568603516, 39.145050048828125, 38.871734619140625, 38.60150909423828, 38.334327697753906, 38.070167541503906, 37.80897521972656, 37.55070877075195, 37.295372009277344, 37.04288864135742, 36.793277740478516, 36.54645538330078, 36.30241394042969, 36.06113052368164, 35.82257080078125, 35.586669921875, 35.35344696044922, 35.12285614013672, 34.89484786987305, 34.66941833496094, 34.44652557373047, 34.22614669799805, 34.008235931396484, 33.79278564453125, 33.57976531982422, 33.3691291809082, 33.160888671875, 32.95499038696289, 32.75140380859375, 32.550113677978516, 32.35108184814453, 32.15430450439453, 31.959732055664062, 31.76735496520996, 31.577144622802734, 31.389080047607422, 31.203128814697266, 31.0192813873291, 30.837488174438477, 30.657751083374023, 30.480030059814453, 30.3043270111084, 30.13059425354004, 29.958812713623047, 29.78897476196289, 29.621042251586914, 29.455001831054688, 29.290843963623047, 29.128528594970703, 28.968029022216797, 28.80935287475586, 28.652450561523438, 28.49733543395996, 28.34395408630371, 28.192296981811523, 28.042346954345703, 27.894094467163086, 27.747507095336914, 27.60257339477539, 27.45926856994629, 27.317575454711914, 27.177474975585938, 27.03896713256836, 26.902008056640625, 26.766597747802734, 26.63271141052246, 26.500341415405273, 26.369436264038086, 26.24003028869629, 26.1120662689209, 25.985549926757812, 25.860458374023438, 25.73677635192871, 25.61448097229004, 25.493572235107422, 25.3740177154541, 25.255817413330078, 25.138948440551758, 25.023391723632812, 24.90913963317871, 24.79616928100586, 24.68447494506836, 24.574031829833984, 24.464839935302734, 24.356876373291016, 24.250125885009766, 24.144577026367188, 24.040231704711914, 23.937042236328125, 23.835018157958984, 23.734149932861328, 23.634416580200195, 23.535808563232422, 23.438304901123047, 23.341903686523438, 23.246591567993164, 23.1523380279541, 23.059158325195312, 22.96702766418457, 22.875930786132812, 22.78586196899414, 22.696807861328125, 22.608760833740234, 22.52170181274414, 22.43561363220215, 22.350509643554688, 22.266355514526367, 22.183151245117188, 22.100887298583984, 22.019542694091797, 21.93912696838379, 21.859601974487305, 21.78097915649414, 21.7032470703125, 21.626388549804688, 21.55038833618164, 21.475244522094727, 21.400949478149414, 21.327495574951172, 21.254865646362305, 21.183048248291016, 21.112049102783203, 21.04184913635254, 20.972440719604492, 20.903804779052734, 20.8359432220459, 20.76885414123535, 20.702516555786133, 20.63693618774414, 20.572072982788086, 20.507949829101562, 20.44455337524414, 20.38187026977539, 20.31989097595215, 20.258607864379883, 20.198009490966797, 20.138103485107422, 20.078866958618164, 20.020301818847656, 19.962398529052734, 19.905139923095703, 19.84853744506836, 19.792560577392578, 19.737224578857422, 19.6825008392334, 19.628395080566406, 19.57490348815918, 19.52201271057129, 19.469717025756836, 19.418014526367188, 19.36688995361328, 19.316341400146484, 19.266366958618164, 19.216949462890625, 19.168087005615234, 19.119775772094727, 19.0720157623291, 19.0247859954834, 18.97809600830078, 18.931921005249023, 18.886280059814453, 18.841135025024414, 18.7965145111084, 18.752384185791016, 18.708755493164062, 18.665626525878906, 18.622976303100586, 18.58080291748047, 18.539112091064453, 18.497882843017578, 18.457128524780273, 18.416824340820312, 18.37697982788086, 18.337574005126953, 18.29862403869629, 18.260107040405273, 18.222023010253906, 18.18436622619629, 18.147138595581055, 18.11033058166504, 18.07393455505371, 18.037948608398438, 18.002361297607422, 17.96718978881836, 17.932403564453125, 17.898014068603516, 17.864009857177734, 17.830385208129883, 17.79714584350586, 17.7642765045166, 17.731779098510742, 17.699649810791016, 17.66786766052246, 17.636463165283203, 17.605403900146484, 17.574687957763672, 17.54432487487793, 17.514307022094727, 17.48462677001953, 17.45527458190918, 17.426258087158203, 17.397571563720703, 17.369197845458984, 17.34115219116211, 17.31342315673828, 17.285999298095703, 17.25889015197754, 17.232086181640625, 17.205575942993164, 17.179370880126953, 17.153457641601562, 17.127838134765625, 17.102508544921875, 17.077463150024414, 17.05270004272461, 17.028213500976562, 17.004005432128906, 16.980073928833008, 16.95640754699707, 16.933002471923828, 16.90987205505371, 16.88698959350586, 16.864377975463867, 16.842010498046875, 16.819902420043945, 16.798046112060547, 16.77642059326172, 16.755046844482422, 16.733922958374023, 16.713022232055664, 16.692373275756836, 16.671939849853516, 16.651748657226562, 16.63177490234375, 16.612037658691406, 16.592517852783203, 16.573217391967773, 16.554134368896484, 16.53526496887207, 16.51661491394043, 16.498157501220703, 16.479917526245117, 16.46189308166504, 16.444059371948242, 16.426429748535156, 16.40900230407715, 16.391769409179688, 16.374725341796875, 16.357879638671875, 16.34122085571289, 16.324752807617188, 16.308462142944336, 16.2923641204834, 16.276437759399414, 16.26069450378418, 16.24513816833496, 16.229740142822266, 16.21452522277832, 16.19948959350586, 16.184612274169922, 16.169906616210938, 16.155364990234375, 16.140987396240234, 16.126773834228516, 16.112707138061523, 16.098819732666016, 16.085071563720703, 16.071495056152344, 16.058063507080078, 16.044771194458008, 16.031641006469727, 16.018659591674805, 16.00581932067871, 15.993127822875977, 15.980570793151855, 15.968165397644043, 15.955896377563477, 15.943766593933105, 15.931775093078613, 15.919914245605469, 15.908183097839355, 15.896594047546387, 15.8851318359375, 15.873791694641113, 15.862586975097656, 15.851511001586914, 15.840556144714355, 15.82972526550293, 15.819009780883789, 15.808420181274414, 15.797945976257324, 15.787595748901367, 15.777353286743164, 15.767250061035156, 15.757234573364258, 15.747342109680176, 15.737558364868164, 15.727890014648438, 15.7183256149292, 15.708874702453613, 15.699519157409668, 15.690275192260742, 15.681134223937988, 15.672103881835938, 15.663165092468262, 15.654330253601074, 15.645599365234375, 15.63696575164795, 15.628427505493164, 15.619977951049805, 15.611635208129883, 15.603375434875488, 15.595219612121582, 15.587148666381836, 15.57917308807373, 15.571284294128418, 15.563481330871582, 15.555768013000488, 15.548141479492188, 15.540611267089844, 15.533154487609863, 15.525782585144043, 15.518506050109863, 15.5112943649292, 15.504162788391113, 15.497121810913086, 15.490156173706055, 15.483278274536133, 15.476463317871094, 15.46973705291748, 15.463081359863281, 15.45649242401123, 15.449987411499023, 15.443560600280762, 15.4371976852417, 15.430910110473633, 15.424695014953613, 15.418538093566895, 15.41246223449707, 15.406454086303711, 15.400510787963867, 15.394633293151855, 15.388818740844727, 15.383077621459961, 15.377401351928711, 15.371780395507812, 15.366233825683594, 15.360738754272461, 15.355318069458008, 15.349945068359375, 15.344636917114258, 15.339395523071289, 15.334202766418457, 15.329078674316406, 15.324000358581543, 15.318990707397461, 15.314031600952148, 15.30913257598877, 15.304286003112793, 15.2994966506958, 15.294751167297363, 15.290072441101074, 15.285441398620605, 15.280853271484375, 15.276326179504395, 15.27185344696045, 15.267420768737793, 15.26304817199707, 15.258718490600586, 15.254438400268555, 15.250210762023926, 15.246023178100586, 15.241888046264648, 15.237798690795898, 15.23375415802002, 15.229754447937012, 15.225809097290039, 15.221893310546875, 15.218027114868164, 15.214213371276855, 15.21043586730957, 15.206697463989258, 15.203007698059082, 15.199357986450195, 15.1957426071167, 15.192172050476074, 15.188647270202637, 15.185154914855957, 15.18170166015625, 15.17829418182373, 15.174919128417969, 15.171579360961914, 15.16828441619873, 15.165020942687988, 15.161798477172852, 15.158610343933105, 15.155462265014648, 15.15234088897705, 15.149263381958008, 15.146215438842773, 15.143196105957031, 15.140231132507324, 15.13727855682373, 15.134370803833008, 15.131494522094727, 15.128649711608887, 15.125839233398438, 15.123044967651367, 15.12030029296875, 15.117581367492676, 15.114895820617676, 15.112231254577637, 15.109601974487305, 15.10700798034668, 15.104435920715332, 15.101885795593262, 15.09937858581543, 15.096890449523926, 15.094439506530762, 15.092012405395508, 15.089605331420898, 15.087234497070312, 15.08488655090332, 15.082565307617188, 15.08027172088623, 15.0780029296875, 15.075752258300781, 15.073541641235352, 15.071342468261719, 15.069170951843262, 15.067033767700195, 15.064908027648926]}\n"
          ]
        }
      ],
      "source": [
        "print(x.history)"
      ]
    },
    {
      "cell_type": "code",
      "execution_count": 38,
      "metadata": {
        "colab": {
          "base_uri": "https://localhost:8080/",
          "height": 447
        },
        "id": "JnfiTpCF4bXt",
        "outputId": "8e8be5f2-796a-41fb-e0e9-767ea550efdd"
      },
      "outputs": [
        {
          "output_type": "execute_result",
          "data": {
            "text/plain": [
              "<Axes: >"
            ]
          },
          "metadata": {},
          "execution_count": 38
        },
        {
          "output_type": "display_data",
          "data": {
            "text/plain": [
              "<Figure size 640x480 with 1 Axes>"
            ],
            "image/png": "[encoded data removed]"
          },
          "metadata": {}
        }
      ],
      "source": [
        "import seaborn as sns\n",
        "sns.lineplot(data=x.history['loss'])"
      ]
    },
    {
      "cell_type": "code",
      "execution_count": 40,
      "metadata": {
        "colab": {
          "base_uri": "https://localhost:8080/"
        },
        "id": "TGwOZknW4bXt",
        "outputId": "b16982c2-8aad-4843-e435-d6ea202770c3"
      },
      "outputs": [
        {
          "output_type": "stream",
          "name": "stdout",
          "text": [
            "\u001b[1m1/1\u001b[0m \u001b[32m━━━━━━━━━━━━━━━━━━━━\u001b[0m\u001b[37m\u001b[0m \u001b[1m0s\u001b[0m 60ms/step\n"
          ]
        },
        {
          "output_type": "execute_result",
          "data": {
            "text/plain": [
              "array([[66.140816]], dtype=float32)"
            ]
          },
          "metadata": {},
          "execution_count": 40
        }
      ],
      "source": [
        "# Convert the input to a NumPy array before prediction\n",
        "model.predict(np.array([10]))"
      ]
    },
    {
      "cell_type": "code",
      "source": [
        "input_val = np.array([10])\n",
        "predicted_price = model.predict(input_val)[0][0] * 1000\n",
        "print(f\"Predicted price for input 10 is: ${predicted_price:.2f}\")"
      ],
      "metadata": {
        "colab": {
          "base_uri": "https://localhost:8080/"
        },
        "id": "uCuVqjd78Pye",
        "outputId": "a0258fac-69be-4160-bcdd-bf7b34e15171"
      },
      "execution_count": 42,
      "outputs": [
        {
          "output_type": "stream",
          "name": "stdout",
          "text": [
            "\u001b[1m1/1\u001b[0m \u001b[32m━━━━━━━━━━━━━━━━━━━━\u001b[0m\u001b[37m\u001b[0m \u001b[1m0s\u001b[0m 35ms/step\n",
            "Predicted price for input 10 is: $66140.81\n"
          ]
        }
      ]
    },
    {
      "cell_type": "markdown",
      "metadata": {
        "id": "btF2CSFH2iEX"
      },
      "source": []
    }
  ],
  "metadata": {
    "colab": {
      "name": "Notebook1.1.ipynb",
      "provenance": [],
      "include_colab_link": true
    },
    "kernelspec": {
      "display_name": "Python 3 (ipykernel)",
      "language": "python",
      "name": "python3"
    },
    "language_info": {
      "codemirror_mode": {
        "name": "ipython",
        "version": 3
      },
      "file_extension": ".py",
      "mimetype": "text/x-python",
      "name": "python",
      "nbconvert_exporter": "python",
      "pygments_lexer": "ipython3",
      "version": "3.10.11"
    }
  },
  "nbformat": 4,
  "nbformat_minor": 0
}